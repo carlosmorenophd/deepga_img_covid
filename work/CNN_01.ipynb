{
 "cells": [
  {
   "cell_type": "code",
   "execution_count": 17,
   "id": "4fff568a-08c4-4128-9706-812e6de7f174",
   "metadata": {},
   "outputs": [],
   "source": [
    "import torch\n",
    "import torch.nn as nn\n",
    "import torch.nn.functional as F          # adds some efficiency\n",
    "from torch.utils.data import Dataset, DataLoader  # lets us load data in batches\n",
    "from torchvision import datasets, transforms\n",
    "import h5py\n",
    "\n",
    "\n",
    "import numpy as np\n",
    "import pandas as pd\n",
    "from sklearn.metrics import confusion_matrix  # for evaluating results\n",
    "import matplotlib.pyplot as plt\n",
    "%matplotlib inline"
   ]
  },
  {
   "cell_type": "code",
   "execution_count": 18,
   "id": "f6e3ecbc-3b18-46b0-b60a-cd6badbba7a6",
   "metadata": {},
   "outputs": [],
   "source": [
    "class CustomDataset(Dataset):\n",
    "    def __init__(self, h5_file, transform=None):\n",
    "        self.h5_file = h5py.File(h5_file, 'r')\n",
    "        self.transform = transform\n",
    "\n",
    "    def __len__(self):\n",
    "        # Retorna o número de amostras no dataset\n",
    "        return len(self.h5_file['images'])\n",
    "\n",
    "    def __getitem__(self, idx):\n",
    "        image = self.h5_file['images'][idx]\n",
    "        label = self.h5_file['labels'][idx]\n",
    "\n",
    "        # Aplicar transformações, se necessário\n",
    "        if self.transform:\n",
    "            image = self.transform(image)\n",
    "\n",
    "        return image, label"
   ]
  },
  {
   "cell_type": "code",
   "execution_count": 19,
   "id": "f6d8a521-e580-4132-aabf-692377dcf09e",
   "metadata": {},
   "outputs": [],
   "source": [
    "transform = transforms.ToTensor()\n"
   ]
  },
  {
   "cell_type": "code",
   "execution_count": 20,
   "id": "225ceecb-004e-4f0c-a4b7-8b2d1ebcdaca",
   "metadata": {},
   "outputs": [
    {
     "ename": "SyntaxError",
     "evalue": "invalid syntax (295063086.py, line 3)",
     "output_type": "error",
     "traceback": [
      "\u001b[0;36m  Cell \u001b[0;32mIn[20], line 3\u001b[0;36m\u001b[0m\n\u001b[0;31m    traning_dataset.\u001b[0m\n\u001b[0m                    ^\u001b[0m\n\u001b[0;31mSyntaxError\u001b[0m\u001b[0;31m:\u001b[0m invalid syntax\n"
     ]
    }
   ],
   "source": [
    "train_dataset = CustomDataset('Data/test_training_covid_img.h5', transform=transforms.ToTensor())\n",
    "train_loader = torch.utils.data.DataLoader(train_dataset, shuffle=True)\n",
    "\n",
    "test_dataset = CustomDataset('Data/test_testing_covid_img.h5', transform=transforms.ToTensor())\n",
    "test_loader = torch.utils.data.DataLoader(test_dataset, shuffle=True)"
   ]
  }
 ],
 "metadata": {
  "kernelspec": {
   "display_name": "Python 3 (ipykernel)",
   "language": "python",
   "name": "python3"
  },
  "language_info": {
   "codemirror_mode": {
    "name": "ipython",
    "version": 3
   },
   "file_extension": ".py",
   "mimetype": "text/x-python",
   "name": "python",
   "nbconvert_exporter": "python",
   "pygments_lexer": "ipython3",
   "version": "3.10.12"
  }
 },
 "nbformat": 4,
 "nbformat_minor": 5
}
