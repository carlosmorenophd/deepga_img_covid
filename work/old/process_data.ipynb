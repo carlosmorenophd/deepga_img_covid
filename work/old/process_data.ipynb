{
 "cells": [
  {
   "cell_type": "markdown",
   "metadata": {},
   "source": [
    "# Convertir imagenes a matriz"
   ]
  },
  {
   "cell_type": "markdown",
   "metadata": {},
   "source": [
    "Leer carpeta y convertir cada imagen a 92x92 y almacenar en una matriz agregando la subcarpeta como la clase"
   ]
  },
  {
   "cell_type": "code",
   "execution_count": 1,
   "metadata": {},
   "outputs": [],
   "source": [
    "%load_ext autoreload\n",
    "%autoreload 2"
   ]
  },
  {
   "cell_type": "code",
   "execution_count": 2,
   "metadata": {},
   "outputs": [],
   "source": [
    "import os\n",
    "import sys\n",
    "module_path = os.path.abspath(os.path.join('../'))\n",
    "if module_path not in sys.path:\n",
    "    sys.path.append(module_path)"
   ]
  },
  {
   "cell_type": "code",
   "execution_count": 3,
   "metadata": {},
   "outputs": [],
   "source": [
    "from preprocessing.dataset import DatasetImages\n",
    "\n",
    "root_path = '../../../data_img_test'\n",
    "\n",
    "training_path = os.path.join(root_path, 'Entrenamiento')\n",
    "test_ptah = os.path.join(root_path, 'Test')\n",
    "path_save = os.path.join(root_path, 'dataset_to_deepga.csv')\n",
    "\n",
    "dataset = DatasetImages()\n",
    "\n",
    "dataset.add_images_from_folder(\n",
    "    main_folder=training_path,\n",
    "    size=[92,92], \n",
    ")\n",
    "\n",
    "dataset.add_images_from_folder(\n",
    "    main_folder=test_ptah,\n",
    "    size=[92,92], \n",
    ")\n"
   ]
  },
  {
   "cell_type": "markdown",
   "metadata": {},
   "source": [
    "Save the new dataset on single csv file"
   ]
  },
  {
   "cell_type": "code",
   "execution_count": 4,
   "metadata": {},
   "outputs": [],
   "source": [
    "dataset.to_csv(save_path=path_save)"
   ]
  }
 ],
 "metadata": {
  "kernelspec": {
   "display_name": "venv",
   "language": "python",
   "name": "python3"
  },
  "language_info": {
   "codemirror_mode": {
    "name": "ipython",
    "version": 3
   },
   "file_extension": ".py",
   "mimetype": "text/x-python",
   "name": "python",
   "nbconvert_exporter": "python",
   "pygments_lexer": "ipython3",
   "version": "3.10.12"
  }
 },
 "nbformat": 4,
 "nbformat_minor": 2
}
